{
 "cells": [
  {
   "cell_type": "markdown",
   "metadata": {},
   "source": [
    "# Symbolic analysis of linear electric circuits with SymPy"
   ]
  },
  {
   "cell_type": "markdown",
   "metadata": {},
   "source": [
    "## Introduction\n",
    "\n",
    "The aim of this tutorial is to show how to solve electrical circuits using SymPy and the SymPyCAP subroutine. Circuit solving will be presented step by step so that everyone will be able to easily apply the whole procedure to solve their own circuit. Everything shown here is based on [SymPyCAP's documentation](https://github.com/mdodovic/SymPyCAP/blob/main/documentation/Documentation.pdf)."
   ]
  },
  {
   "cell_type": "markdown",
   "metadata": {},
   "source": [
    "## List of examples\n",
    "[Example 1: RLC circuit](#example1)<br>\n",
    "[Example 2: Simple capacitor circuit](#example2)<br>\n",
    "[Example 3: OTA-C (Operational Transconductance Amplifier with Capacitors)](#example3)<br>\n",
    "[Example 4: Riordan gyrator network](#example4)<br>\n",
    "[Example 5: Wilkinson power divider](#example5)<br>\n",
    "[Example 6: Transmission line circuit](#example6)<br>\n",
    "[Example 7: Adder](#example7)<br> \n",
    "[Example 8: Subtractor](#example8) <br> \n",
    "[Example 9: Inductive transformer](#example9)<br> \n",
    "[Example 10: LC circuit](#example10)<br>\n",
    "[Example 11: Parallel connection of voltage generators](#example11)<br>\n",
    "[Example 12: Ideal transformer](#example12)<br>\n",
    "[Example 13: Voltage divider](#example13)<br>\n",
    "\n",
    "## List of single elements circuits\n",
    "[Example 14.1: Voltage generator - open circuit](#example14.1)<br>\n",
    "[Example 14.2: Voltage generator - closed circuit](#example14.2)<br>\n",
    "[Example 15.1: Current generator - closed circuit](#example15.1)<br>\n",
    "[Example 15.2: Current generator - open circuit](#example15.1)<br>\n",
    "[Example 16.1: Capacitor with initial state - open circuit](#example16.1)<br>\n",
    "[Example 16.2: Capacitor with initial state - closed circuit](#example16.2)<br>\n",
    "[Example 17.1: Inductor with initial state - open circuit](#example17.1)<br>\n",
    "[Example 17.2: Inductor with initial state - closed circuit](#example17.2)<br>"
   ]
  },
  {
   "cell_type": "markdown",
   "metadata": {},
   "source": [
    "## Example 1: RLC circuit <a name=\"example1\"></a>\n",
    "\n",
    "A simple RLC circuit in the frequency domain $W$ and with the initial conditions of the elements (the initial condition of the capacitor is $UC0$, and the coil $IL0$) will be solved using SymPyCAP. The circuit is shown in Figure 1. "
   ]
  },
  {
   "cell_type": "markdown",
   "metadata": {},
   "source": [
    "<img src=\"./circuit_images/Figure1.png\" width=\"600\">\n",
    "<div align=\"center\">Figure 1: RLC circuit.</div>"
   ]
  },
  {
   "cell_type": "markdown",
   "metadata": {},
   "source": [
    "**Step 1.1.** Mark all nodes in the circuit with integer values starting from 0 (Figure 2)."
   ]
  },
  {
   "cell_type": "markdown",
   "metadata": {},
   "source": [
    "<img src=\"./circuit_images/Figure2.png\" width=\"600\">\n",
    "<div align=\"center\">Figure 2: RLC circuit with marked nodes.</div>"
   ]
  },
  {
   "cell_type": "markdown",
   "metadata": {},
   "source": [
    "**Step 1.2.** In order to solve this circuit, import the `Circuit` class from symPyCAP and import SymPy."
   ]
  },
  {
   "cell_type": "code",
   "execution_count": 1,
   "metadata": {},
   "outputs": [],
   "source": [
    "from symPyCAP import Circuit\n",
    "import sympy"
   ]
  },
  {
   "cell_type": "markdown",
   "metadata": {},
   "source": [
    "**Step 1.3.** Create a list of the elements that make up the circuit. Each element is listed in a specific format given in the documentation."
   ]
  },
  {
   "cell_type": "code",
   "execution_count": 2,
   "metadata": {},
   "outputs": [],
   "source": [
    "RLC_schematic = [\n",
    "    [\"V\",\"Vg\",1,0],\n",
    "    [\"R\",\"R1\",1,2],\n",
    "    [\"C\",\"C1\",2,3,\"UC0\"],\n",
    "    [\"L\",\"L1\",3,0,\"IL0\"]\n",
    "]"
   ]
  },
  {
   "cell_type": "markdown",
   "metadata": {},
   "source": [
    "**Step 1.4.** In addition to the list of elements, create all the symbols needed to solve the circuit, as well as replacement symbols."
   ]
  },
  {
   "cell_type": "code",
   "execution_count": 3,
   "metadata": {},
   "outputs": [],
   "source": [
    "R,C,L,W = sympy.symbols('R,C,L,W')"
   ]
  },
  {
   "cell_type": "markdown",
   "metadata": {},
   "source": [
    "**Step 1.5.** Create an instance of the Circuit class with the list of elements `RLC_schematic` as an argument."
   ]
  },
  {
   "cell_type": "code",
   "execution_count": 4,
   "metadata": {},
   "outputs": [],
   "source": [
    "RLC_circuit = Circuit(RLC_schematic)"
   ]
  },
  {
   "cell_type": "markdown",
   "metadata": {},
   "source": [
    "**Step 1.6.** Call `symPyCAP` method to solve the circuit, that is, to find the response. Pass the symbolic values of the elements and the frequency.<br>\n",
    "**Note:** `sympy.sqrt()` should be used, not `math.sqrt()`."
   ]
  },
  {
   "cell_type": "code",
   "execution_count": 5,
   "metadata": {},
   "outputs": [],
   "source": [
    "RLC_circuit.symPyCAP(w = 1/(sympy.sqrt(L*C)), replacement = {\"R1\" : R, \"C1\" : C, \"L1\" : L})"
   ]
  },
  {
   "cell_type": "markdown",
   "metadata": {},
   "source": [
    "**Step 1.7.** After the method has solved the circuit, print the solution. <br>\n",
    "**Note:** printing the solution that does not include the replacement can be done by the `print_solutions()` method."
   ]
  },
  {
   "cell_type": "code",
   "execution_count": 6,
   "metadata": {
    "scrolled": true
   },
   "outputs": [
    {
     "name": "stdout",
     "output_type": "stream",
     "text": [
      "V1 : Vg \n",
      "\n",
      "V2 : 0 \n",
      "\n",
      "V3 : I*Vg*(C*L)**(3/2)/(C**2*L*R) \n",
      "\n",
      "IVg : -Vg/R \n",
      "\n"
     ]
    }
   ],
   "source": [
    "RLC_circuit.print_specific_solutions()"
   ]
  },
  {
   "cell_type": "markdown",
   "metadata": {},
   "source": [
    "**Note:** The solution does not contain intial conditions of the capacitor and coil because of $jw$ analysis.<br>\n",
    "**Note:** E1 is the rms value of the sinusoidal voltage source with the angular frequency $w = \\displaystyle \\frac{1}{\\sqrt{LC}}$ ."
   ]
  },
  {
   "cell_type": "markdown",
   "metadata": {},
   "source": [
    "**Step 1.8.** It is possible to print the circuit specifications."
   ]
  },
  {
   "cell_type": "code",
   "execution_count": 7,
   "metadata": {},
   "outputs": [
    {
     "name": "stdout",
     "output_type": "stream",
     "text": [
      "Circuit specifications: \n",
      "Number of nodes: 4\n",
      "Input elements:\n",
      "['V', 'Vg', 1, 0]\n",
      "['R', 'R1', 1, 2]\n",
      "['C', 'C1', 2, 3, 'UC0']\n",
      "['L', 'L1', 3, 0, 'IL0']\n",
      "Replacement rule:  {'R1': R, 'C1': C, 'L1': L}\n",
      "Equations:  [IVg + (V1 - V2)/R1, I*C1*(V2 - V3)/sqrt(C*L) + (-V1 + V2)/R1, I*C1*(-V2 + V3)/sqrt(C*L) - I*V3*sqrt(C*L)/L1, V1 - Vg]\n",
      "Variables:  [V1, V2, V3, IVg]\n",
      "Frequency:  1/sqrt(C*L)\n",
      "\n"
     ]
    }
   ],
   "source": [
    "RLC_circuit.electric_circuit_specifications()"
   ]
  },
  {
   "cell_type": "markdown",
   "metadata": {},
   "source": [
    "********"
   ]
  },
  {
   "cell_type": "markdown",
   "metadata": {},
   "source": [
    "## Example 2: Simple capacitor circuit <a name=\"example2\"></a>\n",
    "\n",
    "A simple capacitor circuit is shown in Figure 3. The generator voltage is a step function of strength $Vstep$. The capacitor is initially charged and its preinitial voltage, that is the initial condition, is $V0$. Current of the ideal voltage source is presented to specify the reference direction."
   ]
  },
  {
   "cell_type": "markdown",
   "metadata": {},
   "source": [
    "<img src=\"./circuit_images/Figure3.png\" width=\"600\">\n",
    "<div align=\"center\">Figure 3: Simple capacitor circuit.</div>"
   ]
  },
  {
   "cell_type": "markdown",
   "metadata": {},
   "source": [
    "**Step 2.1.** Repeat steps 1.2 - 1.7. "
   ]
  },
  {
   "cell_type": "code",
   "execution_count": 8,
   "metadata": {},
   "outputs": [],
   "source": [
    "from symPyCAP import Circuit\n",
    "from sympy import *"
   ]
  },
  {
   "cell_type": "markdown",
   "metadata": {},
   "source": [
    "**Note:** Symbols like $I[id]$, w, omega, r, replacement, $V0$, $V1$, ... are reserved symbols and must not be used for either symbol ids or for values in replacement rule list."
   ]
  },
  {
   "cell_type": "code",
   "execution_count": 9,
   "metadata": {},
   "outputs": [],
   "source": [
    "Simple_capacitor_schematic = [\n",
    "    [\"V\",\"Vg\",1,0],\n",
    "    [\"R\",\"R1\",1,2],\n",
    "    [\"C\",\"C1\",2,0,\"VC0\"]\n",
    "]"
   ]
  },
  {
   "cell_type": "code",
   "execution_count": 10,
   "metadata": {},
   "outputs": [],
   "source": [
    "Vstep,s,t = sympy.symbols('Vstep,s,t')\n",
    "R = sympy.Symbol('R', positive=True)\n",
    "C = sympy.Symbol('C', positive=True)"
   ]
  },
  {
   "cell_type": "code",
   "execution_count": 11,
   "metadata": {},
   "outputs": [],
   "source": [
    "simple_capacitor_circuit = Circuit(Simple_capacitor_schematic)"
   ]
  },
  {
   "cell_type": "markdown",
   "metadata": {},
   "source": [
    "**Note:** Calling `symPyCAP` without the frequency specification ($w$), solves the circuit in the $s$-domain, The Unilateral (one-sided) Laplace Transform domain."
   ]
  },
  {
   "cell_type": "code",
   "execution_count": 12,
   "metadata": {},
   "outputs": [],
   "source": [
    "simple_capacitor_circuit.symPyCAP(replacement = {\"R1\" : R, \"C1\" : C, \"Vg\" : Vstep/s})"
   ]
  },
  {
   "cell_type": "markdown",
   "metadata": {},
   "source": [
    "**Note:** The Laplace Transform of the source voltage is Vstep/s, where s represents the complex frequency, that is the Laplace Variable."
   ]
  },
  {
   "cell_type": "code",
   "execution_count": 13,
   "metadata": {},
   "outputs": [
    {
     "name": "stdout",
     "output_type": "stream",
     "text": [
      "V1 : Vstep/s \n",
      "\n",
      "V2 : (C*R*VC0*s + Vstep)/(s*(C*R*s + 1)) \n",
      "\n",
      "IVg : C*(VC0 - Vstep)/(C*R*s + 1) \n",
      "\n"
     ]
    }
   ],
   "source": [
    "simple_capacitor_circuit.print_specific_solutions()"
   ]
  },
  {
   "cell_type": "markdown",
   "metadata": {},
   "source": [
    "**Step 2.2.** The time-domain capacitor voltage, for t > 0, can be computed by SymPy's Inverse Laplace Transform function. <br> **Note:** The getter `get_specific_solutions()` returns the dictionary of specific solutions which can be directly indexed."
   ]
  },
  {
   "cell_type": "code",
   "execution_count": 14,
   "metadata": {},
   "outputs": [],
   "source": [
    "Uct = inverse_laplace_transform(simple_capacitor_circuit.get_specific_solutions()[\"V2\"],s,t)"
   ]
  },
  {
   "cell_type": "code",
   "execution_count": 15,
   "metadata": {
    "scrolled": true
   },
   "outputs": [
    {
     "data": {
      "text/latex": [
       "$\\displaystyle \\left(VC_{0} + Vstep e^{\\frac{t}{C R}} - Vstep\\right) e^{- \\frac{t}{C R}} \\theta\\left(t\\right)$"
      ],
      "text/plain": [
       "(VC0 + Vstep*exp(t/(C*R)) - Vstep)*exp(-t/(C*R))*Heaviside(t)"
      ]
     },
     "execution_count": 15,
     "metadata": {},
     "output_type": "execute_result"
    }
   ],
   "source": [
    "Uct"
   ]
  },
  {
   "cell_type": "markdown",
   "metadata": {},
   "source": [
    "**************************"
   ]
  },
  {
   "cell_type": "markdown",
   "metadata": {},
   "source": [
    "## Example 3: OTA-C (Operational Transconductance Amplifier with Capacitors) <a name=\"example3\"></a>\n",
    "\n",
    "An **OTA-C** (**O**PERATIONAL **T**RANSCONDUCTANCE **A**MPLIFIER  with  **C**APACITORS) lowpass and highpass $2^{nd}$- order filter realization (Figure 4.) is to be solved."
   ]
  },
  {
   "cell_type": "markdown",
   "metadata": {},
   "source": [
    "<img src=\"./circuit_images/Figure4.png\" width=\"700\" height=\"900\">\n",
    "<div align=\"center\">Figure 4: OTA-C (Operational Transconductance Amplifier with Capacitors).</div>"
   ]
  },
  {
   "cell_type": "markdown",
   "metadata": {},
   "source": [
    "**Step 3.1.** Repeat steps 1.2-1.7. "
   ]
  },
  {
   "cell_type": "code",
   "execution_count": 16,
   "metadata": {},
   "outputs": [],
   "source": [
    "from symPyCAP import Circuit\n",
    "from sympy import *"
   ]
  },
  {
   "cell_type": "code",
   "execution_count": 17,
   "metadata": {},
   "outputs": [],
   "source": [
    "OTA_C_schematic = [\n",
    "    [\"V\", \"Vg\", 4, 0],\n",
    "    [\"R\", \"R1\", 4, 1],\n",
    "    [\"VCCS\", \"OTA1\", [1,0], [2,0], \"g\"],\n",
    "    [\"VCCS\", \"OTA2\", [2,0], [2,0], \"g\"],\n",
    "    [\"VCCS\", \"OTA3\", [2,0], [3,0], \"g\"],\n",
    "    [\"VCCS\", \"OTA4\", [3,0], [0,2], \"g\"],\n",
    "    [\"C\", \"C1\", 2, 0],\n",
    "    [\"C\", \"C2\", 3, 0]\n",
    "]"
   ]
  },
  {
   "cell_type": "code",
   "execution_count": 18,
   "metadata": {},
   "outputs": [],
   "source": [
    "R,C = symbols('R,C')"
   ]
  },
  {
   "cell_type": "code",
   "execution_count": 19,
   "metadata": {},
   "outputs": [],
   "source": [
    "OTA_C_circuit = Circuit(OTA_C_schematic)"
   ]
  },
  {
   "cell_type": "code",
   "execution_count": 20,
   "metadata": {},
   "outputs": [],
   "source": [
    "OTA_C_circuit.symPyCAP(replacement = {\"R1\" : R, \"C1\" : C, \"C2\" : C})"
   ]
  },
  {
   "cell_type": "code",
   "execution_count": 21,
   "metadata": {},
   "outputs": [
    {
     "name": "stdout",
     "output_type": "stream",
     "text": [
      "V1 : Vg \n",
      "\n",
      "V2 : -C*Vg*g*s/(C*s*(C*s + g) + g**2) \n",
      "\n",
      "V3 : Vg*g**2/(C*s*(C*s + g) + g**2) \n",
      "\n",
      "V4 : Vg \n",
      "\n",
      "IVg : 0 \n",
      "\n"
     ]
    }
   ],
   "source": [
    "OTA_C_circuit.print_specific_solutions()"
   ]
  },
  {
   "cell_type": "markdown",
   "metadata": {},
   "source": [
    "**Step 3.2.** Use node voltages to calculate capacitors bandwidths."
   ]
  },
  {
   "cell_type": "code",
   "execution_count": 22,
   "metadata": {},
   "outputs": [],
   "source": [
    "Hs2bandpass = OTA_C_circuit.get_specific_solutions()['V2']/OTA_C_circuit.get_specific_solutions()['V1'] "
   ]
  },
  {
   "cell_type": "code",
   "execution_count": 23,
   "metadata": {},
   "outputs": [
    {
     "data": {
      "text/latex": [
       "$\\displaystyle - \\frac{C g s}{C s \\left(C s + g\\right) + g^{2}}$"
      ],
      "text/plain": [
       "-C*g*s/(C*s*(C*s + g) + g**2)"
      ]
     },
     "execution_count": 23,
     "metadata": {},
     "output_type": "execute_result"
    }
   ],
   "source": [
    "Hs2bandpass"
   ]
  },
  {
   "cell_type": "code",
   "execution_count": 24,
   "metadata": {},
   "outputs": [],
   "source": [
    "Hs3lowpass = OTA_C_circuit.get_specific_solutions()['V3']/OTA_C_circuit.get_specific_solutions()['V1']"
   ]
  },
  {
   "cell_type": "code",
   "execution_count": 25,
   "metadata": {},
   "outputs": [
    {
     "data": {
      "text/latex": [
       "$\\displaystyle \\frac{g^{2}}{C s \\left(C s + g\\right) + g^{2}}$"
      ],
      "text/plain": [
       "g**2/(C*s*(C*s + g) + g**2)"
      ]
     },
     "execution_count": 25,
     "metadata": {},
     "output_type": "execute_result"
    }
   ],
   "source": [
    "Hs3lowpass"
   ]
  },
  {
   "cell_type": "markdown",
   "metadata": {},
   "source": [
    "---------"
   ]
  },
  {
   "cell_type": "markdown",
   "metadata": {},
   "source": [
    "## Example 4: Riordan gyrator network <a name=\"example4\"></a>\n",
    "Synthetic inductor, which is realized with the Riordan gyrator network, is shown in Figure 5. The proof-of-concept symbolic analysis follows. The circuit is inductorless but, theoretically, the impedance seen by the source is purely inductive."
   ]
  },
  {
   "cell_type": "markdown",
   "metadata": {},
   "source": [
    "<img src=\"./circuit_images/Figure5.png\" width=\"700\" height=\"900\">\n",
    "<div align=\"center\">Figure 5: Riordan gyrator network.</div>"
   ]
  },
  {
   "cell_type": "markdown",
   "metadata": {},
   "source": [
    "**Step 4.1.** Repeat steps 1.2.-1.7."
   ]
  },
  {
   "cell_type": "code",
   "execution_count": 26,
   "metadata": {},
   "outputs": [],
   "source": [
    "from symPyCAP import Circuit\n",
    "from sympy import *"
   ]
  },
  {
   "cell_type": "code",
   "execution_count": 27,
   "metadata": {},
   "outputs": [],
   "source": [
    "Riordan_schematic = [\n",
    "    [\"V\", \"Vg\", 1, 0],\n",
    "    [\"OpAmp\", \"OpAmp1\", [1,4], 5],\n",
    "    [\"R\", \"R1\", 4, 0],\n",
    "    [\"C\", \"C2\", 4, 5],\n",
    "    [\"R\", \"R3\", 5, 2],\n",
    "    [\"OpAmp\", \"OpAmp2\", [1,2], 3],\n",
    "    [\"R\", \"R4\", 2, 3],\n",
    "    [\"R\", \"R5\", 1, 3]\n",
    "]"
   ]
  },
  {
   "cell_type": "code",
   "execution_count": 28,
   "metadata": {},
   "outputs": [],
   "source": [
    "Riordan_circuit = Circuit(Riordan_schematic)"
   ]
  },
  {
   "cell_type": "markdown",
   "metadata": {},
   "source": [
    "**Note:** calling `symPyCAP` without any replacement results in a solution using only provided ids and can be printed using the `print_solutions()` method and fetched by getter method `get_solutions()`."
   ]
  },
  {
   "cell_type": "code",
   "execution_count": 29,
   "metadata": {},
   "outputs": [],
   "source": [
    "Riordan_circuit.symPyCAP() "
   ]
  },
  {
   "cell_type": "code",
   "execution_count": 30,
   "metadata": {
    "scrolled": true
   },
   "outputs": [
    {
     "name": "stdout",
     "output_type": "stream",
     "text": [
      "V1 : Vg \n",
      "\n",
      "V2 : Vg \n",
      "\n",
      "V3 : Vg - R4*Vg/(C2*R1*R3*s) \n",
      "\n",
      "V4 : Vg \n",
      "\n",
      "V5 : Vg + Vg/(C2*R1*s) \n",
      "\n",
      "IVg : -R4*Vg/(C2*R1*R3*R5*s) \n",
      "\n",
      "IOpAmp1 : -Vg/R1 - Vg/(C2*R1*R3*s) \n",
      "\n",
      "IOpAmp2 : Vg*(R4 + R5)/(C2*R1*R3*R5*s) \n",
      "\n"
     ]
    }
   ],
   "source": [
    "Riordan_circuit.print_solutions()"
   ]
  },
  {
   "cell_type": "markdown",
   "metadata": {},
   "source": [
    "**Step 4.2.** Calculate the input impedance seen by the source."
   ]
  },
  {
   "cell_type": "code",
   "execution_count": 31,
   "metadata": {},
   "outputs": [],
   "source": [
    "Zin = Riordan_circuit.get_solutions()['V1']/(-Riordan_circuit.get_solutions()['IVg'])"
   ]
  },
  {
   "cell_type": "code",
   "execution_count": 32,
   "metadata": {},
   "outputs": [
    {
     "data": {
      "text/latex": [
       "$\\displaystyle \\frac{C_{2} R_{1} R_{3} R_{5} s}{R_{4}}$"
      ],
      "text/plain": [
       "C2*R1*R3*R5*s/R4"
      ]
     },
     "execution_count": 32,
     "metadata": {},
     "output_type": "execute_result"
    }
   ],
   "source": [
    "Zin"
   ]
  },
  {
   "cell_type": "markdown",
   "metadata": {},
   "source": [
    "**Step 4.3.** Calculate the value of the synthetic coil."
   ]
  },
  {
   "cell_type": "code",
   "execution_count": 33,
   "metadata": {},
   "outputs": [],
   "source": [
    "S = Symbol('s')"
   ]
  },
  {
   "cell_type": "code",
   "execution_count": 34,
   "metadata": {},
   "outputs": [],
   "source": [
    "Lsynthetic = Zin/S"
   ]
  },
  {
   "cell_type": "code",
   "execution_count": 35,
   "metadata": {},
   "outputs": [
    {
     "data": {
      "text/latex": [
       "$\\displaystyle \\frac{C_{2} R_{1} R_{3} R_{5}}{R_{4}}$"
      ],
      "text/plain": [
       "C2*R1*R3*R5/R4"
      ]
     },
     "execution_count": 35,
     "metadata": {},
     "output_type": "execute_result"
    }
   ],
   "source": [
    "Lsynthetic"
   ]
  },
  {
   "cell_type": "markdown",
   "metadata": {},
   "source": [
    "************"
   ]
  },
  {
   "cell_type": "markdown",
   "metadata": {},
   "source": [
    "## Example 5: Wilkinson power divider <a name=\"example5\"></a>\n",
    "Wilkinson power divider, which is realized with ideal lossless transmission line sections, is shown in Figure 6.\n",
    "The corresponding symbolic analysis, performed in the Phasor Transform domain, verifies that the circuit equally divides input power to the loads $R2 = R$ and $R3 = R$, i.e. $V2 = V3$."
   ]
  },
  {
   "cell_type": "markdown",
   "metadata": {},
   "source": [
    "<img src=\"./circuit_images/Figure6.png\" width=\"700\" height=\"900\">\n",
    "<div align=\"center\">Figure 6: Wilkinson power divider.</div>"
   ]
  },
  {
   "cell_type": "markdown",
   "metadata": {},
   "source": [
    "**Step 5.1.** Repeat steps 1.2.-1.7."
   ]
  },
  {
   "cell_type": "code",
   "execution_count": 36,
   "metadata": {},
   "outputs": [],
   "source": [
    "from symPyCAP import Circuit\n",
    "import sympy"
   ]
  },
  {
   "cell_type": "code",
   "execution_count": 37,
   "metadata": {},
   "outputs": [],
   "source": [
    "R = Symbol('R')\n",
    "W = symbols('W')"
   ]
  },
  {
   "cell_type": "markdown",
   "metadata": {},
   "source": [
    "**Note:** `sympy.sqrt()` and `sympy.pi` should be used, not `math.sqrt()` and `math.pi`."
   ]
  },
  {
   "cell_type": "code",
   "execution_count": 38,
   "metadata": {},
   "outputs": [],
   "source": [
    "Wilkinson_schematic = [\n",
    "    [\"V\", \"Vg\", 4, 0],\n",
    "    [\"R\", \"R1\", 1, 4],\n",
    "    [\"R\", \"R2\", 2, 0],\n",
    "    [\"R\", \"R3\", 3, 0],\n",
    "    [\"R\", \"R4\", 2, 3],\n",
    "    [\"T\", \"T1\", [1,0], [2,0], [sympy.sqrt(2)*R,sympy.pi/2]],\n",
    "    [\"T\", \"T2\", [1,0], [3,0], [sympy.sqrt(2)*R,sympy.pi/2]]\n",
    "]"
   ]
  },
  {
   "cell_type": "code",
   "execution_count": 39,
   "metadata": {},
   "outputs": [],
   "source": [
    "Wilkinson_circuit = Circuit(Wilkinson_schematic)"
   ]
  },
  {
   "cell_type": "code",
   "execution_count": 40,
   "metadata": {},
   "outputs": [],
   "source": [
    "Wilkinson_circuit.symPyCAP(w = W, replacement = {\"R1\" : R, \"R2\" : R, \"R3\" : R, \"R4\" : 2*R}) "
   ]
  },
  {
   "cell_type": "code",
   "execution_count": 41,
   "metadata": {},
   "outputs": [
    {
     "name": "stdout",
     "output_type": "stream",
     "text": [
      "V1 : Vg/2 \n",
      "\n",
      "V2 : -sqrt(2)*I*Vg/4 \n",
      "\n",
      "V3 : -sqrt(2)*I*Vg/4 \n",
      "\n",
      "V4 : Vg \n",
      "\n",
      "IVg : -Vg/(2*R) \n",
      "\n",
      "IT1_1 : Vg/(4*R) \n",
      "\n",
      "IT1_2 : -sqrt(2)*I*Vg/(4*R) \n",
      "\n",
      "IT2_1 : Vg/(4*R) \n",
      "\n",
      "IT2_3 : -sqrt(2)*I*Vg/(4*R) \n",
      "\n"
     ]
    }
   ],
   "source": [
    "Wilkinson_circuit.print_specific_solutions()"
   ]
  },
  {
   "cell_type": "markdown",
   "metadata": {},
   "source": [
    "**Note:** $I$ represents the imaginary unit in Phyton, $I=\\sqrt{-1}$. It is not the current at a port of an element."
   ]
  },
  {
   "cell_type": "markdown",
   "metadata": {},
   "source": [
    "**Step 5.2.** Compare the voltages of the $2^{nd}$ and $3^{rd}$ node."
   ]
  },
  {
   "cell_type": "code",
   "execution_count": 42,
   "metadata": {},
   "outputs": [
    {
     "data": {
      "text/plain": [
       "True"
      ]
     },
     "execution_count": 42,
     "metadata": {},
     "output_type": "execute_result"
    }
   ],
   "source": [
    "simplify(Wilkinson_circuit.get_specific_solutions()['V2']-Wilkinson_circuit.get_specific_solutions()['V3']) == 0"
   ]
  },
  {
   "cell_type": "markdown",
   "metadata": {},
   "source": [
    "************"
   ]
  },
  {
   "cell_type": "markdown",
   "metadata": {},
   "source": [
    "## Example 6: Transmission line circuit <a name=\"example6\"></a>\n",
    "Doubly terminated lossless transmission line section is shown in Figure 7. The corresponding symbolic analysis, performed in the $s$-domain, verifies that the circuit acts as a delay line."
   ]
  },
  {
   "cell_type": "markdown",
   "metadata": {},
   "source": [
    "<img src=\"./circuit_images/Figure7.png\" width=\"700\" height=\"900\">\n",
    "<div align=\"center\">Figure 7: Transmission line circuit; the $s$-domain."
   ]
  },
  {
   "cell_type": "markdown",
   "metadata": {},
   "source": [
    "**Step 6.1.** Repeat steps 1.2.-1.7."
   ]
  },
  {
   "cell_type": "code",
   "execution_count": 43,
   "metadata": {},
   "outputs": [],
   "source": [
    "from symPyCAP import Circuit\n",
    "from sympy import *"
   ]
  },
  {
   "cell_type": "code",
   "execution_count": 44,
   "metadata": {},
   "outputs": [],
   "source": [
    "Zc = Symbol('Zc')\n",
    "tau = symbols(r'tau')"
   ]
  },
  {
   "cell_type": "code",
   "execution_count": 45,
   "metadata": {},
   "outputs": [],
   "source": [
    "TLine_schematic = [\n",
    "    [\"V\", \"Vg\", 3, 0],\n",
    "    [\"R\", \"R1\", 3, 1],\n",
    "    [\"T\", \"T1\", [1,0], [2,0], [Zc,tau]],\n",
    "    [\"R\", \"R2\", 2, 0]\n",
    "]"
   ]
  },
  {
   "cell_type": "code",
   "execution_count": 46,
   "metadata": {},
   "outputs": [],
   "source": [
    "TLine_circuit = Circuit(TLine_schematic)"
   ]
  },
  {
   "cell_type": "code",
   "execution_count": 47,
   "metadata": {},
   "outputs": [],
   "source": [
    "TLine_circuit.symPyCAP(replacement = {\"R1\" : Zc, \"R2\" : Zc}) "
   ]
  },
  {
   "cell_type": "code",
   "execution_count": 48,
   "metadata": {},
   "outputs": [
    {
     "name": "stdout",
     "output_type": "stream",
     "text": [
      "V1 : Vg/2 \n",
      "\n",
      "V2 : Vg*exp(-s*tau)/2 \n",
      "\n",
      "V3 : Vg \n",
      "\n",
      "IVg : -Vg/(2*Zc) \n",
      "\n",
      "IT1_1 : Vg/(2*Zc) \n",
      "\n",
      "IT1_2 : -Vg*exp(-s*tau)/(2*Zc) \n",
      "\n"
     ]
    }
   ],
   "source": [
    "TLine_circuit.print_specific_solutions()"
   ]
  },
  {
   "cell_type": "code",
   "execution_count": 49,
   "metadata": {},
   "outputs": [
    {
     "data": {
      "text/latex": [
       "$\\displaystyle \\frac{Vg Zc e^{s \\tau}}{Zc \\left(e^{2 s \\tau} + 1\\right) + Zc e^{2 s \\tau} - Zc}$"
      ],
      "text/plain": [
       "Vg*Zc*exp(s*tau)/(Zc*(exp(2*s*tau) + 1) + Zc*exp(2*s*tau) - Zc)"
      ]
     },
     "execution_count": 49,
     "metadata": {},
     "output_type": "execute_result"
    }
   ],
   "source": [
    "TLine_circuit.get_specific_solutions()[\"V2\"]"
   ]
  },
  {
   "cell_type": "markdown",
   "metadata": {},
   "source": [
    "***********"
   ]
  },
  {
   "cell_type": "markdown",
   "metadata": {},
   "source": [
    "## Example 7: Adder <a name=\"example7\"></a>\n",
    "Adder, which is realized an with operational amplifier, is shown in Figure 8. The sum of all voltages at the input should be obtained at the output of the operational amplifier."
   ]
  },
  {
   "cell_type": "markdown",
   "metadata": {},
   "source": [
    "<img src=\"./circuit_images/Figure8.png\" width=\"700\" height=\"900\">\n",
    "<div align=\"center\">Figure 8: Adder.</div>"
   ]
  },
  {
   "cell_type": "markdown",
   "metadata": {},
   "source": [
    "**Step 7.1.** Repeat steps 1.2-1.7."
   ]
  },
  {
   "cell_type": "code",
   "execution_count": 50,
   "metadata": {},
   "outputs": [],
   "source": [
    "from symPyCAP import Circuit\n",
    "import sympy"
   ]
  },
  {
   "cell_type": "code",
   "execution_count": 51,
   "metadata": {},
   "outputs": [],
   "source": [
    "R = sympy.Symbol('R')\n",
    "Ug1 = sympy.Symbol('Ug1')\n",
    "Ug2 = sympy.Symbol('Ug2')\n",
    "Ug3 = sympy.Symbol('Ug3')"
   ]
  },
  {
   "cell_type": "code",
   "execution_count": 52,
   "metadata": {},
   "outputs": [],
   "source": [
    "Adder_schematic = [\n",
    "    [\"R\", \"R1\", 5, 1],\n",
    "    [\"R\", \"R2\", 5, 2],\n",
    "    [\"R\", \"R3\", 5, 3],\n",
    "    [\"R\", \"R0\", 5, 4],\n",
    "    [\"V\", \"Vg1\", 1, 0],\n",
    "    [\"V\", \"Vg2\", 2, 0],\n",
    "    [\"V\", \"Vg3\", 3, 0],\n",
    "    [\"OpAmp\", \"OpAmp1\", [0,5], 4]\n",
    "]"
   ]
  },
  {
   "cell_type": "code",
   "execution_count": 53,
   "metadata": {},
   "outputs": [],
   "source": [
    "Adder_circuit = Circuit(Adder_schematic)"
   ]
  },
  {
   "cell_type": "code",
   "execution_count": 54,
   "metadata": {},
   "outputs": [],
   "source": [
    "Adder_circuit.symPyCAP(replacement = {\"R1\" : R, \"R2\" : R, \"R3\" : R, \"R0\" : R, \"Vg1\" : Ug1, \"Vg2\" : Ug2, \"Vg3\" : Ug3}) "
   ]
  },
  {
   "cell_type": "code",
   "execution_count": 55,
   "metadata": {},
   "outputs": [
    {
     "name": "stdout",
     "output_type": "stream",
     "text": [
      "V1 : Ug1 \n",
      "\n",
      "V2 : Ug2 \n",
      "\n",
      "V3 : Ug3 \n",
      "\n",
      "V4 : -Ug1 - Ug2 - Ug3 \n",
      "\n",
      "V5 : 0 \n",
      "\n",
      "IVg1 : -Ug1/R \n",
      "\n",
      "IVg2 : -Ug2/R \n",
      "\n",
      "IVg3 : -Ug3/R \n",
      "\n",
      "IOpAmp1 : (Ug1 + Ug2 + Ug3)/R \n",
      "\n"
     ]
    }
   ],
   "source": [
    "Adder_circuit.print_specific_solutions()"
   ]
  },
  {
   "cell_type": "markdown",
   "metadata": {},
   "source": [
    "************"
   ]
  },
  {
   "cell_type": "markdown",
   "metadata": {},
   "source": [
    "## Example 8: Subtractor <a name=\"example8\"></a>\n",
    "Subtractor, which is realized with an operational amplifier, is shown in Figure 9."
   ]
  },
  {
   "cell_type": "markdown",
   "metadata": {},
   "source": [
    "<img src=\"./circuit_images/Figure9.png\" width=\"700\" height=\"900\">\n",
    "<div align=\"center\">Figure 9: Subtractor.</div>"
   ]
  },
  {
   "cell_type": "markdown",
   "metadata": {},
   "source": [
    "**Step 8.1.** Repeat steps 1.2-1.7."
   ]
  },
  {
   "cell_type": "code",
   "execution_count": 56,
   "metadata": {},
   "outputs": [],
   "source": [
    "from symPyCAP import Circuit\n",
    "import sympy"
   ]
  },
  {
   "cell_type": "code",
   "execution_count": 57,
   "metadata": {},
   "outputs": [],
   "source": [
    "R = sympy.Symbol('R')\n",
    "Ug1 = sympy.Symbol('Ug1')\n",
    "Ug2 = sympy.Symbol('Ug2')"
   ]
  },
  {
   "cell_type": "code",
   "execution_count": 58,
   "metadata": {},
   "outputs": [],
   "source": [
    "Subtractor_shema = [\n",
    "    [\"R\", \"R1\", 5, 1],\n",
    "    [\"R\", \"R2\", 4, 2],\n",
    "    [\"R\", \"R3\", 5, 3],\n",
    "    [\"R\", \"R4\", 0, 4],\n",
    "    [\"V\", \"Vg1\", 1, 0],\n",
    "    [\"V\", \"Vg2\", 2, 0],\n",
    "    [\"OpAmp\", \"OpAmp1\", [4,5], 3]\n",
    "]"
   ]
  },
  {
   "cell_type": "code",
   "execution_count": 59,
   "metadata": {},
   "outputs": [],
   "source": [
    "Subtractor_circuit = Circuit(Subtractor_shema)"
   ]
  },
  {
   "cell_type": "code",
   "execution_count": 60,
   "metadata": {},
   "outputs": [],
   "source": [
    "Subtractor_circuit.symPyCAP(replacement = {\"R1\" : R, \"R2\" : R, \"R3\" : R, \"R4\" : R, \"Vg1\" : Ug1, \"Vg2\" : Ug2}) "
   ]
  },
  {
   "cell_type": "code",
   "execution_count": 61,
   "metadata": {},
   "outputs": [
    {
     "name": "stdout",
     "output_type": "stream",
     "text": [
      "V1 : Ug1 \n",
      "\n",
      "V2 : Ug2 \n",
      "\n",
      "V3 : -Ug1 + Ug2 \n",
      "\n",
      "V4 : Ug2/2 \n",
      "\n",
      "V5 : Ug2/2 \n",
      "\n",
      "IVg1 : (-Ug1 + Ug2/2)/R \n",
      "\n",
      "IVg2 : -Ug2/(2*R) \n",
      "\n",
      "IOpAmp1 : (Ug1 - Ug2/2)/R \n",
      "\n"
     ]
    }
   ],
   "source": [
    "Subtractor_circuit.print_specific_solutions()"
   ]
  },
  {
   "cell_type": "markdown",
   "metadata": {},
   "source": [
    "***************"
   ]
  },
  {
   "cell_type": "markdown",
   "metadata": {},
   "source": [
    "## Example 9: Inductive Transformer <a name=\"example9\"></a>\n",
    "\n",
    "An inductive transformer with resistors, is shown in Figure 10."
   ]
  },
  {
   "cell_type": "markdown",
   "metadata": {},
   "source": [
    "<img src=\"./circuit_images/Figure10.png\" width=\"700\" height=\"900\">\n",
    "<div align=\"center\">Figure 10: Inductive Transformer.</div>"
   ]
  },
  {
   "cell_type": "markdown",
   "metadata": {},
   "source": [
    "**Step 9.1.** Repeat steps 1.2-1.7."
   ]
  },
  {
   "cell_type": "code",
   "execution_count": 62,
   "metadata": {},
   "outputs": [],
   "source": [
    "from symPyCAP import Circuit\n",
    "import sympy"
   ]
  },
  {
   "cell_type": "code",
   "execution_count": 63,
   "metadata": {},
   "outputs": [],
   "source": [
    "R = sympy.Symbol('R', positive=True)\n",
    "L = sympy.Symbol('L', positive=True)\n",
    "s = sympy.Symbol('s')\n",
    "Phi = sympy.Symbol('Phi', positive=True)\n",
    "t = sympy.Symbol('t')"
   ]
  },
  {
   "cell_type": "code",
   "execution_count": 64,
   "metadata": {},
   "outputs": [],
   "source": [
    "Inductive_schematic = [\n",
    "    [\"R\", \"R1\", 3, 1],\n",
    "    [\"R\", \"R2\", 0, 2],\n",
    "    [\"V\", \"Ug\", 3, 0],\n",
    "    [\"InductiveT\", \"InductiveT1\", [1,0], [2,0], [\"LT1_1\",\"LT1_2\",\"LT1_12\"], [\"Io1\",\"Io2\"]]\n",
    "]"
   ]
  },
  {
   "cell_type": "code",
   "execution_count": 65,
   "metadata": {},
   "outputs": [],
   "source": [
    "Inductive_circuit = Circuit(Inductive_schematic)"
   ]
  },
  {
   "cell_type": "code",
   "execution_count": 66,
   "metadata": {},
   "outputs": [],
   "source": [
    "Inductive_circuit.symPyCAP(replacement = {\"R1\" : R, \"R2\" : R, \"LT1_1\" : L, \"LT1_2\" : L, \"LT1_12\" : L/2}) "
   ]
  },
  {
   "cell_type": "code",
   "execution_count": 67,
   "metadata": {
    "scrolled": true
   },
   "outputs": [
    {
     "name": "stdout",
     "output_type": "stream",
     "text": [
      "V1 : L*(-3*Io1*L*R*s - 4*Io1*R**2 - 2*Io2*R**2 + 3*L*Ug*s**2 + 4*R*Ug*s)/(3*L**2*s**2 + 8*L*R*s + 4*R**2) \n",
      "\n",
      "V2 : -L*R*(2*Io1*R + 3*Io2*L*s + 4*Io2*R - 2*Ug*s)/(3*L**2*s**2 + 8*L*R*s + 4*R**2) \n",
      "\n",
      "V3 : Ug \n",
      "\n",
      "IUg : -(3*Io1*L**2*s + 4*Io1*L*R + 2*Io2*L*R + 4*L*Ug*s + 4*R*Ug)/(3*L**2*s**2 + 8*L*R*s + 4*R**2) \n",
      "\n",
      "IInductiveT1_1 : (3*Io1*L**2*s + 4*Io1*L*R + 2*Io2*L*R + 4*L*Ug*s + 4*R*Ug)/(3*L**2*s**2 + 8*L*R*s + 4*R**2) \n",
      "\n",
      "IInductiveT1_2 : L*(s*(2*Io1*L + Io2*L + 2*Ug) - 2*(Io1 + 2*Io2)*(L*s + R))/(L**2*s**2 - 4*(L*s + R)**2) \n",
      "\n"
     ]
    }
   ],
   "source": [
    "Inductive_circuit.print_specific_solutions()"
   ]
  },
  {
   "cell_type": "markdown",
   "metadata": {},
   "source": [
    "**Step 9.2.** The time-domain for $i_1$ and $i_2$, for t > 0, can be computed by SymPy's Inverse Laplace Transform method."
   ]
  },
  {
   "cell_type": "code",
   "execution_count": 68,
   "metadata": {
    "scrolled": false
   },
   "outputs": [
    {
     "data": {
      "text/latex": [
       "$\\displaystyle - \\frac{Io_{1} e^{- \\frac{2 R t}{L}} \\theta\\left(t\\right)}{2} + \\frac{Io_{1} e^{- \\frac{2 R t}{3 L}} \\theta\\left(t\\right)}{2} + \\frac{Io_{2} e^{- \\frac{2 R t}{L}} \\theta\\left(t\\right)}{2} + \\frac{Io_{2} e^{- \\frac{2 R t}{3 L}} \\theta\\left(t\\right)}{2} - \\frac{Ug e^{- \\frac{2 R t}{L}} \\theta\\left(t\\right)}{L} + \\frac{Ug e^{- \\frac{2 R t}{3 L}} \\theta\\left(t\\right)}{3 L}$"
      ],
      "text/plain": [
       "-Io1*exp(-2*R*t/L)*Heaviside(t)/2 + Io1*exp(-2*R*t/(3*L))*Heaviside(t)/2 + Io2*exp(-2*R*t/L)*Heaviside(t)/2 + Io2*exp(-2*R*t/(3*L))*Heaviside(t)/2 - Ug*exp(-2*R*t/L)*Heaviside(t)/L + Ug*exp(-2*R*t/(3*L))*Heaviside(t)/(3*L)"
      ]
     },
     "execution_count": 68,
     "metadata": {},
     "output_type": "execute_result"
    }
   ],
   "source": [
    "inverse_laplace_transform(Inductive_circuit.get_specific_solutions()[\"IInductiveT1_2\"],s,t)"
   ]
  },
  {
   "cell_type": "code",
   "execution_count": 69,
   "metadata": {
    "scrolled": true
   },
   "outputs": [
    {
     "data": {
      "text/latex": [
       "$\\displaystyle \\frac{Io_{1} e^{- \\frac{2 R t}{L}} \\theta\\left(t\\right)}{2} + \\frac{Io_{1} e^{- \\frac{2 R t}{3 L}} \\theta\\left(t\\right)}{2} - \\frac{Io_{2} e^{- \\frac{2 R t}{L}} \\theta\\left(t\\right)}{2} + \\frac{Io_{2} e^{- \\frac{2 R t}{3 L}} \\theta\\left(t\\right)}{2} + \\frac{Ug e^{- \\frac{2 R t}{L}} \\theta\\left(t\\right)}{L} + \\frac{Ug e^{- \\frac{2 R t}{3 L}} \\theta\\left(t\\right)}{3 L}$"
      ],
      "text/plain": [
       "Io1*exp(-2*R*t/L)*Heaviside(t)/2 + Io1*exp(-2*R*t/(3*L))*Heaviside(t)/2 - Io2*exp(-2*R*t/L)*Heaviside(t)/2 + Io2*exp(-2*R*t/(3*L))*Heaviside(t)/2 + Ug*exp(-2*R*t/L)*Heaviside(t)/L + Ug*exp(-2*R*t/(3*L))*Heaviside(t)/(3*L)"
      ]
     },
     "execution_count": 69,
     "metadata": {},
     "output_type": "execute_result"
    }
   ],
   "source": [
    "inverse_laplace_transform(Inductive_circuit.get_specific_solutions()[\"IInductiveT1_1\"],s,t)"
   ]
  },
  {
   "cell_type": "code",
   "execution_count": 70,
   "metadata": {},
   "outputs": [],
   "source": [
    "ugt = Phi*DiracDelta(t)"
   ]
  },
  {
   "cell_type": "code",
   "execution_count": 71,
   "metadata": {},
   "outputs": [],
   "source": [
    "ugs = laplace_transform(ugt, t, s)"
   ]
  },
  {
   "cell_type": "code",
   "execution_count": 72,
   "metadata": {},
   "outputs": [
    {
     "data": {
      "text/plain": [
       "(Phi*(1 - Heaviside(0)), -oo, True)"
      ]
     },
     "execution_count": 72,
     "metadata": {},
     "output_type": "execute_result"
    }
   ],
   "source": [
    "ugs"
   ]
  },
  {
   "cell_type": "code",
   "execution_count": 73,
   "metadata": {},
   "outputs": [
    {
     "data": {
      "text/latex": [
       "$\\displaystyle \\frac{\\frac{L s \\left(Io_{1} L + \\frac{Io_{2} L}{2} + Ug\\right)}{2} - \\left(\\frac{Io_{1} L}{2} + Io_{2} L\\right) \\left(L s + L\\right)}{\\frac{L^{2} s^{2}}{4} - \\left(L s + L\\right)^{2}}$"
      ],
      "text/plain": [
       "(L*s*(Io1*L + Io2*L/2 + Ug)/2 - (Io1*L/2 + Io2*L)*(L*s + L))/(L**2*s**2/4 - (L*s + L)**2)"
      ]
     },
     "execution_count": 73,
     "metadata": {},
     "output_type": "execute_result"
    }
   ],
   "source": [
    "Inductive_circuit.get_specific_solutions()[\"IInductiveT1_2\"].subs(R, L)"
   ]
  },
  {
   "cell_type": "markdown",
   "metadata": {},
   "source": [
    "************"
   ]
  },
  {
   "cell_type": "markdown",
   "metadata": {},
   "source": [
    "## Example 10: LC circuit <a name=\"example10\"></a>\n",
    "An LC circuit is shown in Figure 11. Its resonant frequency is $w = \\displaystyle \\frac{1}{\\sqrt{LC}}$. At this frequency, the circuit response diverges."
   ]
  },
  {
   "cell_type": "markdown",
   "metadata": {},
   "source": [
    "<img src=\"./circuit_images/Figure11.png\" width=\"700\" height=\"900\">\n",
    "<div align=\"center\">Figure 11: LC circuit.</div>"
   ]
  },
  {
   "cell_type": "markdown",
   "metadata": {},
   "source": [
    "**Step 10.1.** Repeat steps 1.2-1.7."
   ]
  },
  {
   "cell_type": "code",
   "execution_count": 74,
   "metadata": {},
   "outputs": [],
   "source": [
    "from symPyCAP import Circuit\n",
    "import sympy"
   ]
  },
  {
   "cell_type": "code",
   "execution_count": 75,
   "metadata": {},
   "outputs": [],
   "source": [
    "C = sympy.Symbol('C')\n",
    "L = sympy.Symbol('L')"
   ]
  },
  {
   "cell_type": "code",
   "execution_count": 76,
   "metadata": {},
   "outputs": [],
   "source": [
    "LC_schematic = [\n",
    "    [\"L\", \"L1\", 2, 1],\n",
    "    [\"C\", \"C1\", 0, 2],\n",
    "    [\"V\", \"Vg\", 1, 0],\n",
    "]"
   ]
  },
  {
   "cell_type": "code",
   "execution_count": 77,
   "metadata": {},
   "outputs": [],
   "source": [
    "LC_circuit = Circuit(LC_schematic)"
   ]
  },
  {
   "cell_type": "code",
   "execution_count": 78,
   "metadata": {},
   "outputs": [],
   "source": [
    "LC_circuit.symPyCAP(w = 1/(sympy.sqrt(L*C)), replacement = {\"L1\" : L, \"C1\" : C}) "
   ]
  },
  {
   "cell_type": "code",
   "execution_count": 79,
   "metadata": {},
   "outputs": [
    {
     "name": "stdout",
     "output_type": "stream",
     "text": [
      "Steady-state response does not exist at frequency 1/sqrt(C*L)\n"
     ]
    }
   ],
   "source": [
    "LC_circuit.print_specific_solutions()"
   ]
  },
  {
   "cell_type": "markdown",
   "metadata": {},
   "source": [
    "**************"
   ]
  },
  {
   "cell_type": "markdown",
   "metadata": {},
   "source": [
    "## Example 11: Parallel connection of voltage generators <a name=\"example11\"></a>\n",
    "An untypical example is two voltage generators of different voltage values. This circuit does not have a solution."
   ]
  },
  {
   "cell_type": "markdown",
   "metadata": {},
   "source": [
    "<img src=\"./circuit_images/Figure12.png\" width=\"700\" height=\"900\">\n",
    "<div align=\"center\">Figure 12: Parallel connection of voltage generators.</div>"
   ]
  },
  {
   "cell_type": "markdown",
   "metadata": {},
   "source": [
    "**Step 11.1.** Repeat necessary steps 1.2-1.7."
   ]
  },
  {
   "cell_type": "code",
   "execution_count": 80,
   "metadata": {},
   "outputs": [],
   "source": [
    "from symPyCAP import Circuit"
   ]
  },
  {
   "cell_type": "code",
   "execution_count": 81,
   "metadata": {},
   "outputs": [],
   "source": [
    "EE_schematic = [\n",
    "    [\"V\", \"Vg1\", 0, 1],\n",
    "    [\"V\", \"Vg2\", 0, 1],\n",
    "]"
   ]
  },
  {
   "cell_type": "code",
   "execution_count": 82,
   "metadata": {},
   "outputs": [],
   "source": [
    "EE_circuit = Circuit(EE_schematic)"
   ]
  },
  {
   "cell_type": "code",
   "execution_count": 83,
   "metadata": {},
   "outputs": [],
   "source": [
    "EE_circuit.symPyCAP()"
   ]
  },
  {
   "cell_type": "code",
   "execution_count": 84,
   "metadata": {
    "scrolled": true
   },
   "outputs": [
    {
     "name": "stdout",
     "output_type": "stream",
     "text": [
      "Solution does not exist!\n"
     ]
    }
   ],
   "source": [
    "EE_circuit.print_solutions()"
   ]
  },
  {
   "cell_type": "markdown",
   "metadata": {},
   "source": [
    "The circuit is not well-behaved because the element equations, KCL and KVL cannot hold simultaneously."
   ]
  },
  {
   "cell_type": "markdown",
   "metadata": {},
   "source": [
    "*****************"
   ]
  },
  {
   "cell_type": "markdown",
   "metadata": {},
   "source": [
    "## Example 12: Ideal transformers <a name=\"example12\"></a>\n",
    "Two ideal transformers, which are cascaded to get the higher gain, are shown in Figure 13."
   ]
  },
  {
   "cell_type": "markdown",
   "metadata": {},
   "source": [
    "<img src=\"./circuit_images/Figure13.png\" width=\"700\" height=\"900\">\n",
    "<div align=\"center\">Figure 13: Ideal transformers.</div>"
   ]
  },
  {
   "cell_type": "markdown",
   "metadata": {},
   "source": [
    "**Step 12.1.** Repeat necessary steps 1.2-1.7."
   ]
  },
  {
   "cell_type": "code",
   "execution_count": 85,
   "metadata": {},
   "outputs": [],
   "source": [
    "from symPyCAP import Circuit\n",
    "import sympy"
   ]
  },
  {
   "cell_type": "code",
   "execution_count": 86,
   "metadata": {},
   "outputs": [],
   "source": [
    "m = sympy.Symbol('m')\n",
    "n = sympy.Symbol('n')"
   ]
  },
  {
   "cell_type": "code",
   "execution_count": 87,
   "metadata": {},
   "outputs": [],
   "source": [
    "Ideal_schematic = [\n",
    "    [\"V\", \"Vg\", 1, 0],\n",
    "    [\"R\", \"R1\", 3, 0],\n",
    "    [\"IdealT\", \"IT1\", [2,0], [1,0], \"m\"],\n",
    "    [\"IdealT\", \"IT2\", [3,0], [2,0], \"n\"]\n",
    "]"
   ]
  },
  {
   "cell_type": "code",
   "execution_count": 88,
   "metadata": {},
   "outputs": [],
   "source": [
    "Ideal_circuit = Circuit(Ideal_schematic)"
   ]
  },
  {
   "cell_type": "code",
   "execution_count": 89,
   "metadata": {},
   "outputs": [],
   "source": [
    "Ideal_circuit.symPyCAP()"
   ]
  },
  {
   "cell_type": "code",
   "execution_count": 90,
   "metadata": {
    "scrolled": false
   },
   "outputs": [
    {
     "name": "stdout",
     "output_type": "stream",
     "text": [
      "V1 : Vg \n",
      "\n",
      "V2 : Vg*m \n",
      "\n",
      "V3 : Vg*m*n \n",
      "\n",
      "IVg : -Vg*m**2*n**2/R1 \n",
      "\n",
      "IIT1 : -Vg*m*n**2/R1 \n",
      "\n",
      "IIT2 : -Vg*m*n/R1 \n",
      "\n"
     ]
    }
   ],
   "source": [
    "Ideal_circuit.print_solutions()"
   ]
  },
  {
   "cell_type": "markdown",
   "metadata": {},
   "source": [
    "**********"
   ]
  },
  {
   "cell_type": "markdown",
   "metadata": {},
   "source": [
    "## Example 13: Voltage divider<a name=\"example13\"></a>\n",
    "A voltage divider with two resistors and a voltage generator is shown in Figure 14."
   ]
  },
  {
   "cell_type": "markdown",
   "metadata": {},
   "source": [
    "<img src=\"./circuit_images/Figure14.png\" width=\"700\" height=\"900\">\n",
    "<div align=\"center\">Figure 14: Voltage divider.</div>"
   ]
  },
  {
   "cell_type": "markdown",
   "metadata": {},
   "source": [
    "**Step 13.1.** Repeat necessary steps 1.2-1.7."
   ]
  },
  {
   "cell_type": "code",
   "execution_count": 91,
   "metadata": {},
   "outputs": [],
   "source": [
    "from symPyCAP import Circuit\n",
    "from sympy import *"
   ]
  },
  {
   "cell_type": "code",
   "execution_count": 92,
   "metadata": {},
   "outputs": [],
   "source": [
    "Voltage_divider_schematic = [\n",
    "    [\"V\", \"Vg\", 1, 0],\n",
    "    [\"R\", \"R1\", 1, 2],\n",
    "    [\"R\", \"R2\", 2, 0]\n",
    "]"
   ]
  },
  {
   "cell_type": "code",
   "execution_count": 93,
   "metadata": {},
   "outputs": [],
   "source": [
    "Voltage_divider_circuit = Circuit(Voltage_divider_schematic)"
   ]
  },
  {
   "cell_type": "code",
   "execution_count": 94,
   "metadata": {},
   "outputs": [],
   "source": [
    "Voltage_divider_circuit.symPyCAP()"
   ]
  },
  {
   "cell_type": "code",
   "execution_count": 95,
   "metadata": {},
   "outputs": [
    {
     "name": "stdout",
     "output_type": "stream",
     "text": [
      "V1 : Vg \n",
      "\n",
      "V2 : R2*Vg/(R1 + R2) \n",
      "\n",
      "IVg : -Vg/(R1 + R2) \n",
      "\n"
     ]
    }
   ],
   "source": [
    "Voltage_divider_circuit.print_solutions()"
   ]
  },
  {
   "cell_type": "markdown",
   "metadata": {},
   "source": [
    "**Step 13.2.** Easily obtain the voltages across resistors R1 and R2."
   ]
  },
  {
   "cell_type": "code",
   "execution_count": 96,
   "metadata": {},
   "outputs": [],
   "source": [
    "UR1 = simplify(Voltage_divider_circuit.get_solutions()[\"V1\"]-Voltage_divider_circuit.get_solutions()[\"V2\"])"
   ]
  },
  {
   "cell_type": "code",
   "execution_count": 97,
   "metadata": {},
   "outputs": [
    {
     "data": {
      "text/latex": [
       "$\\displaystyle \\frac{R_{1} Vg}{R_{1} + R_{2}}$"
      ],
      "text/plain": [
       "R1*Vg/(R1 + R2)"
      ]
     },
     "execution_count": 97,
     "metadata": {},
     "output_type": "execute_result"
    }
   ],
   "source": [
    "UR1"
   ]
  },
  {
   "cell_type": "code",
   "execution_count": 98,
   "metadata": {},
   "outputs": [],
   "source": [
    "UR2 = Voltage_divider_circuit.get_solutions()[\"V2\"]"
   ]
  },
  {
   "cell_type": "code",
   "execution_count": 99,
   "metadata": {},
   "outputs": [
    {
     "data": {
      "text/latex": [
       "$\\displaystyle \\frac{R_{2} Vg}{R_{1} + R_{2}}$"
      ],
      "text/plain": [
       "R2*Vg/(R1 + R2)"
      ]
     },
     "execution_count": 99,
     "metadata": {},
     "output_type": "execute_result"
    }
   ],
   "source": [
    "UR2"
   ]
  },
  {
   "cell_type": "markdown",
   "metadata": {},
   "source": [
    "****************"
   ]
  },
  {
   "cell_type": "markdown",
   "metadata": {},
   "source": [
    "# Single element circuits"
   ]
  },
  {
   "cell_type": "markdown",
   "metadata": {},
   "source": [
    "## Example 14.1: Voltage generator - open circuit <a name=\"example14.1\"></a>"
   ]
  },
  {
   "cell_type": "markdown",
   "metadata": {},
   "source": [
    "<img src=\"./circuit_images/Figure15.png\" width=\"150\" height=\"900\">\n",
    "<div align=\"center\">Figure 15: Voltage generator - open circuit.</div>"
   ]
  },
  {
   "cell_type": "markdown",
   "metadata": {},
   "source": [
    "**Step 14.1.1.** Repeat necessary steps 1.2-1.7."
   ]
  },
  {
   "cell_type": "code",
   "execution_count": 100,
   "metadata": {},
   "outputs": [],
   "source": [
    "from symPyCAP import Circuit"
   ]
  },
  {
   "cell_type": "code",
   "execution_count": 101,
   "metadata": {},
   "outputs": [],
   "source": [
    "Generator_open_schematic = [\n",
    "    [\"V\", \"Vg\", 1, 0]\n",
    "]"
   ]
  },
  {
   "cell_type": "code",
   "execution_count": 102,
   "metadata": {},
   "outputs": [],
   "source": [
    "Voltage_open_circuit = Circuit(Generator_open_schematic)"
   ]
  },
  {
   "cell_type": "code",
   "execution_count": 103,
   "metadata": {},
   "outputs": [],
   "source": [
    "Voltage_open_circuit.symPyCAP()"
   ]
  },
  {
   "cell_type": "code",
   "execution_count": 104,
   "metadata": {},
   "outputs": [
    {
     "name": "stdout",
     "output_type": "stream",
     "text": [
      "V1 : Vg \n",
      "\n",
      "IVg : 0 \n",
      "\n"
     ]
    }
   ],
   "source": [
    "Voltage_open_circuit.print_solutions()"
   ]
  },
  {
   "cell_type": "markdown",
   "metadata": {},
   "source": [
    "## Example 14.2: Voltage generator - closed circuit <a name=\"example14.2\"></a>"
   ]
  },
  {
   "cell_type": "markdown",
   "metadata": {},
   "source": [
    "<img src=\"./circuit_images/Figure16.png\" width=\"300\" height=\"900\">\n",
    "<div align=\"center\">Figure 16: Voltage generator - closed circuit.</div>"
   ]
  },
  {
   "cell_type": "markdown",
   "metadata": {},
   "source": [
    "**Step 14.2.1.** Repeat necessary steps 1.2-1.7."
   ]
  },
  {
   "cell_type": "code",
   "execution_count": 105,
   "metadata": {},
   "outputs": [],
   "source": [
    "from symPyCAP import Circuit"
   ]
  },
  {
   "cell_type": "code",
   "execution_count": 106,
   "metadata": {},
   "outputs": [],
   "source": [
    "Generator_closed_schematic = [\n",
    "    [\"V\", \"Vg\", 0, 0]\n",
    "]"
   ]
  },
  {
   "cell_type": "code",
   "execution_count": 107,
   "metadata": {},
   "outputs": [],
   "source": [
    "Voltage_closed_circuit = Circuit(Generator_closed_schematic)"
   ]
  },
  {
   "cell_type": "code",
   "execution_count": 108,
   "metadata": {},
   "outputs": [],
   "source": [
    "Voltage_closed_circuit.symPyCAP()"
   ]
  },
  {
   "cell_type": "code",
   "execution_count": 109,
   "metadata": {},
   "outputs": [
    {
     "name": "stdout",
     "output_type": "stream",
     "text": [
      "Solution does not exist!\n"
     ]
    }
   ],
   "source": [
    "Voltage_closed_circuit.print_solutions()"
   ]
  },
  {
   "cell_type": "markdown",
   "metadata": {},
   "source": [
    "****************"
   ]
  },
  {
   "cell_type": "markdown",
   "metadata": {},
   "source": [
    "## Example 15.1: Current generator - closed circuit <a name=\"example15.1\"></a>"
   ]
  },
  {
   "cell_type": "markdown",
   "metadata": {},
   "source": [
    "<img src=\"./circuit_images/Figure17.png\" width=\"200\" height=\"900\">\n",
    "<div align=\"center\">Figure 17: Current generator - closed circuit.</div>"
   ]
  },
  {
   "cell_type": "markdown",
   "metadata": {},
   "source": [
    "**Step 15.1.1.** Repeat necessary steps 1.2-1.7."
   ]
  },
  {
   "cell_type": "code",
   "execution_count": 110,
   "metadata": {},
   "outputs": [],
   "source": [
    "from symPyCAP import Circuit"
   ]
  },
  {
   "cell_type": "code",
   "execution_count": 111,
   "metadata": {},
   "outputs": [],
   "source": [
    "Generator_closed_schematic = [\n",
    "    [\"I\", \"Ig\", 0, 0]\n",
    "]"
   ]
  },
  {
   "cell_type": "code",
   "execution_count": 112,
   "metadata": {},
   "outputs": [],
   "source": [
    "Current_closed_circuit = Circuit(Generator_closed_schematic)"
   ]
  },
  {
   "cell_type": "code",
   "execution_count": 113,
   "metadata": {},
   "outputs": [],
   "source": [
    "Current_closed_circuit.symPyCAP()"
   ]
  },
  {
   "cell_type": "code",
   "execution_count": 114,
   "metadata": {},
   "outputs": [
    {
     "name": "stdout",
     "output_type": "stream",
     "text": [
      "Solution does not exist!\n"
     ]
    }
   ],
   "source": [
    "Current_closed_circuit.print_solutions()"
   ]
  },
  {
   "cell_type": "markdown",
   "metadata": {},
   "source": [
    "## Example 15.2: Current generator - open circuit <a name=\"example15.2\"></a>"
   ]
  },
  {
   "cell_type": "markdown",
   "metadata": {},
   "source": [
    "<img src=\"./circuit_images/Figure18.png\" width=\"150\" height=\"900\">\n",
    "<div align=\"center\">Figure 18: Current generator - open circuit.</div>"
   ]
  },
  {
   "cell_type": "markdown",
   "metadata": {},
   "source": [
    "**Step 15.1.1.** Repeat necessary steps 1.2-1.7."
   ]
  },
  {
   "cell_type": "code",
   "execution_count": 115,
   "metadata": {},
   "outputs": [],
   "source": [
    "from symPyCAP import Circuit"
   ]
  },
  {
   "cell_type": "code",
   "execution_count": 116,
   "metadata": {},
   "outputs": [],
   "source": [
    "Generator_open_schematic = [\n",
    "    [\"I\", \"Ig\", 1, 0]\n",
    "]"
   ]
  },
  {
   "cell_type": "code",
   "execution_count": 117,
   "metadata": {},
   "outputs": [],
   "source": [
    "Current_open_circuit = Circuit(Generator_open_schematic)"
   ]
  },
  {
   "cell_type": "code",
   "execution_count": 118,
   "metadata": {},
   "outputs": [],
   "source": [
    "Current_open_circuit.symPyCAP()"
   ]
  },
  {
   "cell_type": "code",
   "execution_count": 119,
   "metadata": {},
   "outputs": [
    {
     "name": "stdout",
     "output_type": "stream",
     "text": [
      "Solution does not exist!\n"
     ]
    }
   ],
   "source": [
    "Current_open_circuit.print_solutions()"
   ]
  },
  {
   "cell_type": "markdown",
   "metadata": {},
   "source": [
    "***************"
   ]
  },
  {
   "cell_type": "markdown",
   "metadata": {},
   "source": [
    "## Example 16.1: Capacitor with initial state - open circuit <a name=\"example16.1\"></a>"
   ]
  },
  {
   "cell_type": "markdown",
   "metadata": {},
   "source": [
    "<img src=\"./circuit_images/Figure19.png\" width=\"200\" height=\"900\">\n",
    "<div align=\"center\">Figure 19: Capacitor with initial state - open circuit.</div>"
   ]
  },
  {
   "cell_type": "markdown",
   "metadata": {},
   "source": [
    "**Step 16.1.1.** Repeat necessary steps 1.2-1.7."
   ]
  },
  {
   "cell_type": "code",
   "execution_count": 120,
   "metadata": {},
   "outputs": [],
   "source": [
    "from symPyCAP import Circuit"
   ]
  },
  {
   "cell_type": "code",
   "execution_count": 121,
   "metadata": {},
   "outputs": [],
   "source": [
    "Capacitor_open_schematic = [\n",
    "    [\"C\", \"C1\", 1, 0, \"U0\"]\n",
    "]"
   ]
  },
  {
   "cell_type": "code",
   "execution_count": 122,
   "metadata": {},
   "outputs": [],
   "source": [
    "Capacitor_open_circuit = Circuit(Capacitor_open_schematic)"
   ]
  },
  {
   "cell_type": "code",
   "execution_count": 123,
   "metadata": {},
   "outputs": [],
   "source": [
    "Capacitor_open_circuit.symPyCAP()"
   ]
  },
  {
   "cell_type": "code",
   "execution_count": 124,
   "metadata": {},
   "outputs": [
    {
     "name": "stdout",
     "output_type": "stream",
     "text": [
      "V1 : U0/s \n",
      "\n"
     ]
    }
   ],
   "source": [
    "Capacitor_open_circuit.print_solutions()"
   ]
  },
  {
   "cell_type": "markdown",
   "metadata": {},
   "source": [
    "Since UC0=const, the time-domain voltage v1(t)=U0 for t>0, In other words, the Inverse Laplace Transform of UC0/s is UC0*HeavisideTheta(t)."
   ]
  },
  {
   "cell_type": "markdown",
   "metadata": {},
   "source": [
    "## Example 16.2: Capacitor with initial state - closed circuit <a name=\"example16.2\"></a>"
   ]
  },
  {
   "cell_type": "markdown",
   "metadata": {},
   "source": [
    "<img src=\"./circuit_images/Figure20.png\" width=\"150\" height=\"900\">\n",
    "<div align=\"center\">Figure 20: Capacitor with initial state - closed circuit.</div>"
   ]
  },
  {
   "cell_type": "markdown",
   "metadata": {},
   "source": [
    "**Step 16.2.1.** Repeat necessary steps 1.2-1.7."
   ]
  },
  {
   "cell_type": "code",
   "execution_count": 125,
   "metadata": {},
   "outputs": [],
   "source": [
    "from symPyCAP import Circuit"
   ]
  },
  {
   "cell_type": "code",
   "execution_count": 126,
   "metadata": {},
   "outputs": [],
   "source": [
    "Capacitor_closed_schematic = [\n",
    "    [\"C\", \"C1\", 0, 0, \"U0\"]\n",
    "]"
   ]
  },
  {
   "cell_type": "code",
   "execution_count": 127,
   "metadata": {},
   "outputs": [],
   "source": [
    "Capacitor_closed_circuit = Circuit(Capacitor_closed_schematic)"
   ]
  },
  {
   "cell_type": "code",
   "execution_count": 128,
   "metadata": {},
   "outputs": [],
   "source": [
    "Capacitor_closed_circuit.symPyCAP()"
   ]
  },
  {
   "cell_type": "code",
   "execution_count": 129,
   "metadata": {},
   "outputs": [
    {
     "name": "stdout",
     "output_type": "stream",
     "text": [
      "Solution does not exist!\n"
     ]
    }
   ],
   "source": [
    "Capacitor_closed_circuit.print_solutions()"
   ]
  },
  {
   "cell_type": "markdown",
   "metadata": {},
   "source": [
    "**************"
   ]
  },
  {
   "cell_type": "markdown",
   "metadata": {},
   "source": [
    "## Example 17.1: Inductor with initial state - open circuit <a name=\"example17.1\"></a>"
   ]
  },
  {
   "cell_type": "markdown",
   "metadata": {},
   "source": [
    "<img src=\"./circuit_images/Figure21.png\" width=\"150\" height=\"900\">\n",
    "<div align=\"center\">Figure 21: Inductor with initial state - open circuit.</div>"
   ]
  },
  {
   "cell_type": "markdown",
   "metadata": {},
   "source": [
    "**Step 17.1.1.** Repeat necessary steps 1.2-1.7."
   ]
  },
  {
   "cell_type": "code",
   "execution_count": 130,
   "metadata": {},
   "outputs": [],
   "source": [
    "from symPyCAP import Circuit"
   ]
  },
  {
   "cell_type": "code",
   "execution_count": 131,
   "metadata": {},
   "outputs": [],
   "source": [
    "Inductor_open_schematic = [\n",
    "    [\"L\", \"L1\", 1, 0, \"I0\"]\n",
    "]"
   ]
  },
  {
   "cell_type": "code",
   "execution_count": 132,
   "metadata": {},
   "outputs": [],
   "source": [
    "Inductor_open_circuit = Circuit(Inductor_open_schematic)"
   ]
  },
  {
   "cell_type": "code",
   "execution_count": 133,
   "metadata": {},
   "outputs": [],
   "source": [
    "Inductor_open_circuit.symPyCAP()"
   ]
  },
  {
   "cell_type": "code",
   "execution_count": 134,
   "metadata": {},
   "outputs": [
    {
     "name": "stdout",
     "output_type": "stream",
     "text": [
      "V1 : -I0*L1 \n",
      "\n"
     ]
    }
   ],
   "source": [
    "Inductor_open_circuit.print_solutions()"
   ]
  },
  {
   "cell_type": "markdown",
   "metadata": {},
   "source": [
    "## Example 17.2: Inductor with initial state - closed circuit <a name=\"example17.2\"></a>"
   ]
  },
  {
   "cell_type": "markdown",
   "metadata": {},
   "source": [
    "<img src=\"./circuit_images/Figure22.png\" width=\"200\" height=\"900\">\n",
    "<div align=\"center\">Figure 22: Inductor with inital state - closed circuit.</div>"
   ]
  },
  {
   "cell_type": "markdown",
   "metadata": {},
   "source": [
    "**Step 17.2.1.** Repeat necessary steps 1.2-1.7."
   ]
  },
  {
   "cell_type": "code",
   "execution_count": 135,
   "metadata": {},
   "outputs": [],
   "source": [
    "from symPyCAP import Circuit"
   ]
  },
  {
   "cell_type": "code",
   "execution_count": 136,
   "metadata": {},
   "outputs": [],
   "source": [
    "Inductor_closed_schematic = [\n",
    "    [\"L\", \"L1\", 0, 0, \"I0\"]\n",
    "]"
   ]
  },
  {
   "cell_type": "code",
   "execution_count": 137,
   "metadata": {},
   "outputs": [],
   "source": [
    "Inductor_closed_circuit = Circuit(Inductor_closed_schematic)"
   ]
  },
  {
   "cell_type": "code",
   "execution_count": 138,
   "metadata": {},
   "outputs": [],
   "source": [
    "Inductor_closed_circuit.symPyCAP()"
   ]
  },
  {
   "cell_type": "code",
   "execution_count": 139,
   "metadata": {},
   "outputs": [
    {
     "name": "stdout",
     "output_type": "stream",
     "text": [
      "Solution does not exist!\n"
     ]
    }
   ],
   "source": [
    "Inductor_closed_circuit.print_solutions()"
   ]
  }
 ],
 "metadata": {
  "kernelspec": {
   "display_name": "Python 3",
   "language": "python",
   "name": "python3"
  },
  "language_info": {
   "codemirror_mode": {
    "name": "ipython",
    "version": 3
   },
   "file_extension": ".py",
   "mimetype": "text/x-python",
   "name": "python",
   "nbconvert_exporter": "python",
   "pygments_lexer": "ipython3",
   "version": "3.7.3"
  }
 },
 "nbformat": 4,
 "nbformat_minor": 4
}
